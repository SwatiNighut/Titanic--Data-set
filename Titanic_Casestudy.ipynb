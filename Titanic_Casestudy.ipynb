{
 "cells": [
  {
   "cell_type": "markdown",
   "id": "1f324fb1",
   "metadata": {},
   "source": [
    "# Titanic- CaseStudy"
   ]
  },
  {
   "cell_type": "markdown",
   "id": "d7cb5264",
   "metadata": {},
   "source": [
    "The sinking of the RMS Titanic is one of the most infamous shipwrecks in history. On April 15, 1912, during her maiden voyage, the Titanic sank after colliding with an iceberg. This sensational tragedy shocked the international community and led to better safety regulations for ships.\n",
    "One of the reasons that the shipwreck led to such loss of life was that there were not enough lifeboats for the passengers and crew. Although there was some element of luck involved in surviving the sinking, some groups of people were more likely to survive than others, such as women, children, and the upper-class.\n",
    "In this challenge, we ask you to complete the analysis of what sorts of people were likely to survive. In particular, we ask you to apply the tools of machine learning to predict which passengers survived the tragedy."
   ]
  },
  {
   "cell_type": "markdown",
   "id": "48b78382",
   "metadata": {},
   "source": [
    "Import all the necessary libraries"
   ]
  },
  {
   "cell_type": "code",
   "execution_count": 1,
   "id": "1a64238b",
   "metadata": {},
   "outputs": [],
   "source": [
    "import numpy as np\n",
    "import pandas as pd\n",
    "import matplotlib.pyplot as plt\n",
    "import seaborn as sns\n",
    "\n",
    "import warnings\n",
    "warnings.filterwarnings(\"ignore\")"
   ]
  },
  {
   "cell_type": "code",
   "execution_count": 2,
   "id": "f278b0a4",
   "metadata": {},
   "outputs": [],
   "source": [
    "from sklearn.model_selection import train_test_split\n",
    "\n",
    "from sklearn.compose import ColumnTransformer\n",
    "from sklearn.preprocessing import OneHotEncoder\n",
    "\n",
    "from sklearn.linear_model import LogisticRegression\n",
    "from sklearn.neighbors import KNeighborsClassifier\n",
    "from sklearn.svm import SVC\n",
    "from sklearn.tree import DecisionTreeClassifier\n",
    "\n",
    "from sklearn.metrics import classification_report,confusion_matrix,accuracy_score "
   ]
  },
  {
   "cell_type": "code",
   "execution_count": 3,
   "id": "4e8206a3",
   "metadata": {},
   "outputs": [],
   "source": [
    "# get the data"
   ]
  },
  {
   "cell_type": "code",
   "execution_count": 4,
   "id": "c40722c1",
   "metadata": {},
   "outputs": [
    {
     "data": {
      "text/html": [
       "<div>\n",
       "<style scoped>\n",
       "    .dataframe tbody tr th:only-of-type {\n",
       "        vertical-align: middle;\n",
       "    }\n",
       "\n",
       "    .dataframe tbody tr th {\n",
       "        vertical-align: top;\n",
       "    }\n",
       "\n",
       "    .dataframe thead th {\n",
       "        text-align: right;\n",
       "    }\n",
       "</style>\n",
       "<table border=\"1\" class=\"dataframe\">\n",
       "  <thead>\n",
       "    <tr style=\"text-align: right;\">\n",
       "      <th></th>\n",
       "      <th>PassengerId</th>\n",
       "      <th>Survived</th>\n",
       "      <th>Pclass</th>\n",
       "      <th>Name</th>\n",
       "      <th>Sex</th>\n",
       "      <th>Age</th>\n",
       "      <th>SibSp</th>\n",
       "      <th>Parch</th>\n",
       "      <th>Ticket</th>\n",
       "      <th>Fare</th>\n",
       "      <th>Cabin</th>\n",
       "      <th>Embarked</th>\n",
       "    </tr>\n",
       "  </thead>\n",
       "  <tbody>\n",
       "    <tr>\n",
       "      <th>0</th>\n",
       "      <td>1</td>\n",
       "      <td>0</td>\n",
       "      <td>3</td>\n",
       "      <td>Braund, Mr. Owen Harris</td>\n",
       "      <td>male</td>\n",
       "      <td>22.0</td>\n",
       "      <td>1</td>\n",
       "      <td>0</td>\n",
       "      <td>A/5 21171</td>\n",
       "      <td>7.2500</td>\n",
       "      <td>NaN</td>\n",
       "      <td>S</td>\n",
       "    </tr>\n",
       "    <tr>\n",
       "      <th>1</th>\n",
       "      <td>2</td>\n",
       "      <td>1</td>\n",
       "      <td>1</td>\n",
       "      <td>Cumings, Mrs. John Bradley (Florence Briggs Th...</td>\n",
       "      <td>female</td>\n",
       "      <td>38.0</td>\n",
       "      <td>1</td>\n",
       "      <td>0</td>\n",
       "      <td>PC 17599</td>\n",
       "      <td>71.2833</td>\n",
       "      <td>C85</td>\n",
       "      <td>C</td>\n",
       "    </tr>\n",
       "    <tr>\n",
       "      <th>2</th>\n",
       "      <td>3</td>\n",
       "      <td>1</td>\n",
       "      <td>3</td>\n",
       "      <td>Heikkinen, Miss. Laina</td>\n",
       "      <td>female</td>\n",
       "      <td>26.0</td>\n",
       "      <td>0</td>\n",
       "      <td>0</td>\n",
       "      <td>STON/O2. 3101282</td>\n",
       "      <td>7.9250</td>\n",
       "      <td>NaN</td>\n",
       "      <td>S</td>\n",
       "    </tr>\n",
       "    <tr>\n",
       "      <th>3</th>\n",
       "      <td>4</td>\n",
       "      <td>1</td>\n",
       "      <td>1</td>\n",
       "      <td>Futrelle, Mrs. Jacques Heath (Lily May Peel)</td>\n",
       "      <td>female</td>\n",
       "      <td>35.0</td>\n",
       "      <td>1</td>\n",
       "      <td>0</td>\n",
       "      <td>113803</td>\n",
       "      <td>53.1000</td>\n",
       "      <td>C123</td>\n",
       "      <td>S</td>\n",
       "    </tr>\n",
       "    <tr>\n",
       "      <th>4</th>\n",
       "      <td>5</td>\n",
       "      <td>0</td>\n",
       "      <td>3</td>\n",
       "      <td>Allen, Mr. William Henry</td>\n",
       "      <td>male</td>\n",
       "      <td>35.0</td>\n",
       "      <td>0</td>\n",
       "      <td>0</td>\n",
       "      <td>373450</td>\n",
       "      <td>8.0500</td>\n",
       "      <td>NaN</td>\n",
       "      <td>S</td>\n",
       "    </tr>\n",
       "  </tbody>\n",
       "</table>\n",
       "</div>"
      ],
      "text/plain": [
       "   PassengerId  Survived  Pclass  \\\n",
       "0            1         0       3   \n",
       "1            2         1       1   \n",
       "2            3         1       3   \n",
       "3            4         1       1   \n",
       "4            5         0       3   \n",
       "\n",
       "                                                Name     Sex   Age  SibSp  \\\n",
       "0                            Braund, Mr. Owen Harris    male  22.0      1   \n",
       "1  Cumings, Mrs. John Bradley (Florence Briggs Th...  female  38.0      1   \n",
       "2                             Heikkinen, Miss. Laina  female  26.0      0   \n",
       "3       Futrelle, Mrs. Jacques Heath (Lily May Peel)  female  35.0      1   \n",
       "4                           Allen, Mr. William Henry    male  35.0      0   \n",
       "\n",
       "   Parch            Ticket     Fare Cabin Embarked  \n",
       "0      0         A/5 21171   7.2500   NaN        S  \n",
       "1      0          PC 17599  71.2833   C85        C  \n",
       "2      0  STON/O2. 3101282   7.9250   NaN        S  \n",
       "3      0            113803  53.1000  C123        S  \n",
       "4      0            373450   8.0500   NaN        S  "
      ]
     },
     "execution_count": 4,
     "metadata": {},
     "output_type": "execute_result"
    }
   ],
   "source": [
    "df= pd.read_csv(\"titanic_train.csv\")\n",
    "df.head()"
   ]
  },
  {
   "cell_type": "code",
   "execution_count": 5,
   "id": "5086cce7",
   "metadata": {},
   "outputs": [
    {
     "name": "stdout",
     "output_type": "stream",
     "text": [
      "<class 'pandas.core.frame.DataFrame'>\n",
      "RangeIndex: 891 entries, 0 to 890\n",
      "Data columns (total 12 columns):\n",
      " #   Column       Non-Null Count  Dtype  \n",
      "---  ------       --------------  -----  \n",
      " 0   PassengerId  891 non-null    int64  \n",
      " 1   Survived     891 non-null    int64  \n",
      " 2   Pclass       891 non-null    int64  \n",
      " 3   Name         891 non-null    object \n",
      " 4   Sex          891 non-null    object \n",
      " 5   Age          714 non-null    float64\n",
      " 6   SibSp        891 non-null    int64  \n",
      " 7   Parch        891 non-null    int64  \n",
      " 8   Ticket       891 non-null    object \n",
      " 9   Fare         891 non-null    float64\n",
      " 10  Cabin        204 non-null    object \n",
      " 11  Embarked     889 non-null    object \n",
      "dtypes: float64(2), int64(5), object(5)\n",
      "memory usage: 83.7+ KB\n"
     ]
    }
   ],
   "source": [
    "df.info()"
   ]
  },
  {
   "cell_type": "code",
   "execution_count": 6,
   "id": "0b841706",
   "metadata": {},
   "outputs": [
    {
     "data": {
      "text/html": [
       "<div>\n",
       "<style scoped>\n",
       "    .dataframe tbody tr th:only-of-type {\n",
       "        vertical-align: middle;\n",
       "    }\n",
       "\n",
       "    .dataframe tbody tr th {\n",
       "        vertical-align: top;\n",
       "    }\n",
       "\n",
       "    .dataframe thead th {\n",
       "        text-align: right;\n",
       "    }\n",
       "</style>\n",
       "<table border=\"1\" class=\"dataframe\">\n",
       "  <thead>\n",
       "    <tr style=\"text-align: right;\">\n",
       "      <th></th>\n",
       "      <th>PassengerId</th>\n",
       "      <th>Survived</th>\n",
       "      <th>Pclass</th>\n",
       "      <th>Age</th>\n",
       "      <th>SibSp</th>\n",
       "      <th>Parch</th>\n",
       "      <th>Fare</th>\n",
       "    </tr>\n",
       "  </thead>\n",
       "  <tbody>\n",
       "    <tr>\n",
       "      <th>count</th>\n",
       "      <td>891.000000</td>\n",
       "      <td>891.000000</td>\n",
       "      <td>891.000000</td>\n",
       "      <td>714.000000</td>\n",
       "      <td>891.000000</td>\n",
       "      <td>891.000000</td>\n",
       "      <td>891.000000</td>\n",
       "    </tr>\n",
       "    <tr>\n",
       "      <th>mean</th>\n",
       "      <td>446.000000</td>\n",
       "      <td>0.383838</td>\n",
       "      <td>2.308642</td>\n",
       "      <td>29.699118</td>\n",
       "      <td>0.523008</td>\n",
       "      <td>0.381594</td>\n",
       "      <td>32.204208</td>\n",
       "    </tr>\n",
       "    <tr>\n",
       "      <th>std</th>\n",
       "      <td>257.353842</td>\n",
       "      <td>0.486592</td>\n",
       "      <td>0.836071</td>\n",
       "      <td>14.526497</td>\n",
       "      <td>1.102743</td>\n",
       "      <td>0.806057</td>\n",
       "      <td>49.693429</td>\n",
       "    </tr>\n",
       "    <tr>\n",
       "      <th>min</th>\n",
       "      <td>1.000000</td>\n",
       "      <td>0.000000</td>\n",
       "      <td>1.000000</td>\n",
       "      <td>0.420000</td>\n",
       "      <td>0.000000</td>\n",
       "      <td>0.000000</td>\n",
       "      <td>0.000000</td>\n",
       "    </tr>\n",
       "    <tr>\n",
       "      <th>25%</th>\n",
       "      <td>223.500000</td>\n",
       "      <td>0.000000</td>\n",
       "      <td>2.000000</td>\n",
       "      <td>20.125000</td>\n",
       "      <td>0.000000</td>\n",
       "      <td>0.000000</td>\n",
       "      <td>7.910400</td>\n",
       "    </tr>\n",
       "    <tr>\n",
       "      <th>50%</th>\n",
       "      <td>446.000000</td>\n",
       "      <td>0.000000</td>\n",
       "      <td>3.000000</td>\n",
       "      <td>28.000000</td>\n",
       "      <td>0.000000</td>\n",
       "      <td>0.000000</td>\n",
       "      <td>14.454200</td>\n",
       "    </tr>\n",
       "    <tr>\n",
       "      <th>75%</th>\n",
       "      <td>668.500000</td>\n",
       "      <td>1.000000</td>\n",
       "      <td>3.000000</td>\n",
       "      <td>38.000000</td>\n",
       "      <td>1.000000</td>\n",
       "      <td>0.000000</td>\n",
       "      <td>31.000000</td>\n",
       "    </tr>\n",
       "    <tr>\n",
       "      <th>max</th>\n",
       "      <td>891.000000</td>\n",
       "      <td>1.000000</td>\n",
       "      <td>3.000000</td>\n",
       "      <td>80.000000</td>\n",
       "      <td>8.000000</td>\n",
       "      <td>6.000000</td>\n",
       "      <td>512.329200</td>\n",
       "    </tr>\n",
       "  </tbody>\n",
       "</table>\n",
       "</div>"
      ],
      "text/plain": [
       "       PassengerId    Survived      Pclass         Age       SibSp  \\\n",
       "count   891.000000  891.000000  891.000000  714.000000  891.000000   \n",
       "mean    446.000000    0.383838    2.308642   29.699118    0.523008   \n",
       "std     257.353842    0.486592    0.836071   14.526497    1.102743   \n",
       "min       1.000000    0.000000    1.000000    0.420000    0.000000   \n",
       "25%     223.500000    0.000000    2.000000   20.125000    0.000000   \n",
       "50%     446.000000    0.000000    3.000000   28.000000    0.000000   \n",
       "75%     668.500000    1.000000    3.000000   38.000000    1.000000   \n",
       "max     891.000000    1.000000    3.000000   80.000000    8.000000   \n",
       "\n",
       "            Parch        Fare  \n",
       "count  891.000000  891.000000  \n",
       "mean     0.381594   32.204208  \n",
       "std      0.806057   49.693429  \n",
       "min      0.000000    0.000000  \n",
       "25%      0.000000    7.910400  \n",
       "50%      0.000000   14.454200  \n",
       "75%      0.000000   31.000000  \n",
       "max      6.000000  512.329200  "
      ]
     },
     "execution_count": 6,
     "metadata": {},
     "output_type": "execute_result"
    }
   ],
   "source": [
    "df.describe()"
   ]
  },
  {
   "cell_type": "markdown",
   "id": "bc999927",
   "metadata": {},
   "source": [
    "- Describe method tell us information minimum age ofpassanger was 0.42 and maximum age was 80.0. \n",
    "- Minimum fare was 0. that mean some passaengers were travelling without any fare.\n",
    "- Some passengers are travelling with sibling and spouse."
   ]
  },
  {
   "cell_type": "code",
   "execution_count": 7,
   "id": "9881f163",
   "metadata": {},
   "outputs": [
    {
     "data": {
      "text/plain": [
       "PassengerId      0\n",
       "Survived         0\n",
       "Pclass           0\n",
       "Name             0\n",
       "Sex              0\n",
       "Age            177\n",
       "SibSp            0\n",
       "Parch            0\n",
       "Ticket           0\n",
       "Fare             0\n",
       "Cabin          687\n",
       "Embarked         2\n",
       "dtype: int64"
      ]
     },
     "execution_count": 7,
     "metadata": {},
     "output_type": "execute_result"
    }
   ],
   "source": [
    "df.isna().sum()"
   ]
  },
  {
   "cell_type": "markdown",
   "id": "527e1ac7",
   "metadata": {},
   "source": [
    "- some values are missing in Age, cabin and embarked columns"
   ]
  },
  {
   "cell_type": "code",
   "execution_count": 8,
   "id": "0bb6799c",
   "metadata": {},
   "outputs": [
    {
     "data": {
      "text/plain": [
       "<AxesSubplot:xlabel='Age', ylabel='Density'>"
      ]
     },
     "execution_count": 8,
     "metadata": {},
     "output_type": "execute_result"
    },
    {
     "data": {
      "image/png": "[encoded data removed]",
      "text/plain": [
       "<Figure size 432x288 with 1 Axes>"
      ]
     },
     "metadata": {
      "needs_background": "light"
     },
     "output_type": "display_data"
    }
   ],
   "source": [
    "sns.distplot(df[\"Age\"],color=\"magenta\")"
   ]
  },
  {
   "cell_type": "markdown",
   "id": "053a91f2",
   "metadata": {},
   "source": [
    "The distplot show the Maximum Age of passaengers lies between around 18 to 40."
   ]
  },
  {
   "cell_type": "markdown",
   "id": "93b9ca5b",
   "metadata": {},
   "source": []
  },
  {
   "cell_type": "code",
   "execution_count": 9,
   "id": "992a7831",
   "metadata": {},
   "outputs": [
    {
     "data": {
      "text/plain": [
       "<AxesSubplot:>"
      ]
     },
     "execution_count": 9,
     "metadata": {},
     "output_type": "execute_result"
    },
    {
     "data": {
      "image/png": "[encoded data removed]",
      "text/plain": [
       "<Figure size 432x288 with 2 Axes>"
      ]
     },
     "metadata": {
      "needs_background": "light"
     },
     "output_type": "display_data"
    }
   ],
   "source": [
    "sns.heatmap(df.corr(),annot= True)"
   ]
  },
  {
   "cell_type": "code",
   "execution_count": 10,
   "id": "e790d512",
   "metadata": {},
   "outputs": [
    {
     "data": {
      "text/plain": [
       "<AxesSubplot:>"
      ]
     },
     "execution_count": 10,
     "metadata": {},
     "output_type": "execute_result"
    },
    {
     "data": {
      "image/png": "[encoded data removed]",
      "text/plain": [
       "<Figure size 432x288 with 1 Axes>"
      ]
     },
     "metadata": {
      "needs_background": "light"
     },
     "output_type": "display_data"
    }
   ],
   "source": [
    "df.corr()['Survived'].sort_values().plot(kind= \"bar\")"
   ]
  },
  {
   "cell_type": "markdown",
   "id": "7a0f157e",
   "metadata": {},
   "source": [
    "correlation plot shows strong relation of Survived column with Fare"
   ]
  },
  {
   "cell_type": "code",
   "execution_count": 11,
   "id": "f169bd5e",
   "metadata": {},
   "outputs": [
    {
     "data": {
      "text/plain": [
       "<AxesSubplot:xlabel='Survived', ylabel='count'>"
      ]
     },
     "execution_count": 11,
     "metadata": {},
     "output_type": "execute_result"
    },
    {
     "data": {
      "image/png": "[encoded data removed]",
      "text/plain": [
       "<Figure size 432x288 with 1 Axes>"
      ]
     },
     "metadata": {
      "needs_background": "light"
     },
     "output_type": "display_data"
    }
   ],
   "source": [
    "sns.countplot(x= \"Survived\",hue = \"Sex\",  data = df,palette= 'RdBu_r')"
   ]
  },
  {
   "cell_type": "markdown",
   "id": "6aab1601",
   "metadata": {},
   "source": [
    "Among The passenger travelling Male are more than Female. But Survived percentage of female is more than male."
   ]
  },
  {
   "cell_type": "code",
   "execution_count": 12,
   "id": "416befd3",
   "metadata": {},
   "outputs": [
    {
     "data": {
      "text/plain": [
       "<AxesSubplot:xlabel='Survived', ylabel='count'>"
      ]
     },
     "execution_count": 12,
     "metadata": {},
     "output_type": "execute_result"
    },
    {
     "data": {
      "image/png": "[encoded data removed]",
      "text/plain": [
       "<Figure size 432x288 with 1 Axes>"
      ]
     },
     "metadata": {
      "needs_background": "light"
     },
     "output_type": "display_data"
    }
   ],
   "source": [
    "sns.countplot(x= \"Survived\",hue = \"Pclass\",data=df,palette=\"rainbow\")"
   ]
  },
  {
   "cell_type": "markdown",
   "id": "3477ceea",
   "metadata": {},
   "source": [
    "Passengers travelling with Class 1 have more chances of survival than other two classes."
   ]
  },
  {
   "cell_type": "markdown",
   "id": "213ecdaf",
   "metadata": {},
   "source": [
    "# Data Cleaning"
   ]
  },
  {
   "cell_type": "markdown",
   "id": "ca19ec1f",
   "metadata": {},
   "source": [
    "Age column have missing values so fill that missing values"
   ]
  },
  {
   "cell_type": "code",
   "execution_count": 13,
   "id": "263ed6a5",
   "metadata": {},
   "outputs": [
    {
     "data": {
      "text/plain": [
       "<AxesSubplot:>"
      ]
     },
     "execution_count": 13,
     "metadata": {},
     "output_type": "execute_result"
    },
    {
     "data": {
      "image/png": "[encoded data removed]",
      "text/plain": [
       "<Figure size 432x288 with 1 Axes>"
      ]
     },
     "metadata": {
      "needs_background": "light"
     },
     "output_type": "display_data"
    }
   ],
   "source": [
    "sns.heatmap(df.isnull(),yticklabels = False,cbar = False, cmap = \"viridis\")"
   ]
  },
  {
   "cell_type": "code",
   "execution_count": 14,
   "id": "5e847d65",
   "metadata": {},
   "outputs": [],
   "source": [
    "def impute_age(cols):\n",
    "    Age = cols[0]\n",
    "    Pclass = cols[1]\n",
    "    \n",
    "    if(pd.isnull(Age)):\n",
    "        if(Pclass==1):\n",
    "            return 37\n",
    "        elif(Pclass==2):\n",
    "            return 29\n",
    "        else:\n",
    "            return 24\n",
    "        \n",
    "    else:\n",
    "        return Age"
   ]
  },
  {
   "cell_type": "code",
   "execution_count": 15,
   "id": "bb9af5b6",
   "metadata": {},
   "outputs": [],
   "source": [
    "df['Age']= df[[\"Age\",\"Pclass\"]].apply(impute_age,axis=1)"
   ]
  },
  {
   "cell_type": "code",
   "execution_count": 16,
   "id": "d3727361",
   "metadata": {},
   "outputs": [
    {
     "data": {
      "text/plain": [
       "<AxesSubplot:>"
      ]
     },
     "execution_count": 16,
     "metadata": {},
     "output_type": "execute_result"
    },
    {
     "data": {
      "image/png": "[encoded data removed]",
      "text/plain": [
       "<Figure size 432x288 with 1 Axes>"
      ]
     },
     "metadata": {
      "needs_background": "light"
     },
     "output_type": "display_data"
    }
   ],
   "source": [
    "sns.heatmap(df.isnull(),yticklabels = False,cbar = False, cmap = \"viridis\")"
   ]
  },
  {
   "cell_type": "markdown",
   "id": "1aaae8bf",
   "metadata": {},
   "source": [
    "Cabin column have 687 missing values out of 891.so drop that column."
   ]
  },
  {
   "cell_type": "code",
   "execution_count": 17,
   "id": "5d35394e",
   "metadata": {},
   "outputs": [],
   "source": [
    "df.drop('Cabin', axis=1, inplace=True)"
   ]
  },
  {
   "cell_type": "code",
   "execution_count": 18,
   "id": "aafca55d",
   "metadata": {},
   "outputs": [
    {
     "data": {
      "text/plain": [
       "PassengerId    0\n",
       "Survived       0\n",
       "Pclass         0\n",
       "Name           0\n",
       "Sex            0\n",
       "Age            0\n",
       "SibSp          0\n",
       "Parch          0\n",
       "Ticket         0\n",
       "Fare           0\n",
       "Embarked       2\n",
       "dtype: int64"
      ]
     },
     "execution_count": 18,
     "metadata": {},
     "output_type": "execute_result"
    }
   ],
   "source": [
    "df.isna().sum()"
   ]
  },
  {
   "cell_type": "markdown",
   "id": "46b36119",
   "metadata": {},
   "source": [
    "Now only Embarked column have 2 missing values, so use dropna method."
   ]
  },
  {
   "cell_type": "code",
   "execution_count": 19,
   "id": "1f25c42e",
   "metadata": {},
   "outputs": [],
   "source": [
    "df.dropna(inplace= True)"
   ]
  },
  {
   "cell_type": "code",
   "execution_count": 20,
   "id": "8212ac26",
   "metadata": {},
   "outputs": [
    {
     "data": {
      "text/plain": [
       "PassengerId    0\n",
       "Survived       0\n",
       "Pclass         0\n",
       "Name           0\n",
       "Sex            0\n",
       "Age            0\n",
       "SibSp          0\n",
       "Parch          0\n",
       "Ticket         0\n",
       "Fare           0\n",
       "Embarked       0\n",
       "dtype: int64"
      ]
     },
     "execution_count": 20,
     "metadata": {},
     "output_type": "execute_result"
    }
   ],
   "source": [
    "df.isna().sum()"
   ]
  },
  {
   "cell_type": "code",
   "execution_count": 21,
   "id": "c25cbfba",
   "metadata": {},
   "outputs": [
    {
     "data": {
      "text/plain": [
       "<AxesSubplot:>"
      ]
     },
     "execution_count": 21,
     "metadata": {},
     "output_type": "execute_result"
    },
    {
     "data": {
      "image/png": "[encoded data removed]",
      "text/plain": [
       "<Figure size 432x288 with 1 Axes>"
      ]
     },
     "metadata": {
      "needs_background": "light"
     },
     "output_type": "display_data"
    }
   ],
   "source": [
    "sns.heatmap(df.isnull(),yticklabels = False,cbar = False, cmap = \"viridis\")"
   ]
  },
  {
   "cell_type": "markdown",
   "id": "f6bfed5a",
   "metadata": {},
   "source": [
    "Now we have data which do not have any missing values."
   ]
  },
  {
   "cell_type": "code",
   "execution_count": 22,
   "id": "5e43a914",
   "metadata": {},
   "outputs": [],
   "source": [
    "df.drop([\"PassengerId\",\"Name\",\"Ticket\"],axis=1,inplace= True)"
   ]
  },
  {
   "cell_type": "markdown",
   "id": "0e929505",
   "metadata": {},
   "source": [
    "PassengerId,Name, Tickets columns will not help in prediction so dropped that columns"
   ]
  },
  {
   "cell_type": "markdown",
   "id": "8c2aa02d",
   "metadata": {},
   "source": [
    "Now We have cleaned data for further analysis"
   ]
  },
  {
   "cell_type": "code",
   "execution_count": 23,
   "id": "e36c064a",
   "metadata": {},
   "outputs": [
    {
     "data": {
      "text/html": [
       "<div>\n",
       "<style scoped>\n",
       "    .dataframe tbody tr th:only-of-type {\n",
       "        vertical-align: middle;\n",
       "    }\n",
       "\n",
       "    .dataframe tbody tr th {\n",
       "        vertical-align: top;\n",
       "    }\n",
       "\n",
       "    .dataframe thead th {\n",
       "        text-align: right;\n",
       "    }\n",
       "</style>\n",
       "<table border=\"1\" class=\"dataframe\">\n",
       "  <thead>\n",
       "    <tr style=\"text-align: right;\">\n",
       "      <th></th>\n",
       "      <th>Survived</th>\n",
       "      <th>Pclass</th>\n",
       "      <th>Sex</th>\n",
       "      <th>Age</th>\n",
       "      <th>SibSp</th>\n",
       "      <th>Parch</th>\n",
       "      <th>Fare</th>\n",
       "      <th>Embarked</th>\n",
       "    </tr>\n",
       "  </thead>\n",
       "  <tbody>\n",
       "    <tr>\n",
       "      <th>0</th>\n",
       "      <td>0</td>\n",
       "      <td>3</td>\n",
       "      <td>male</td>\n",
       "      <td>22.0</td>\n",
       "      <td>1</td>\n",
       "      <td>0</td>\n",
       "      <td>7.2500</td>\n",
       "      <td>S</td>\n",
       "    </tr>\n",
       "    <tr>\n",
       "      <th>1</th>\n",
       "      <td>1</td>\n",
       "      <td>1</td>\n",
       "      <td>female</td>\n",
       "      <td>38.0</td>\n",
       "      <td>1</td>\n",
       "      <td>0</td>\n",
       "      <td>71.2833</td>\n",
       "      <td>C</td>\n",
       "    </tr>\n",
       "    <tr>\n",
       "      <th>2</th>\n",
       "      <td>1</td>\n",
       "      <td>3</td>\n",
       "      <td>female</td>\n",
       "      <td>26.0</td>\n",
       "      <td>0</td>\n",
       "      <td>0</td>\n",
       "      <td>7.9250</td>\n",
       "      <td>S</td>\n",
       "    </tr>\n",
       "    <tr>\n",
       "      <th>3</th>\n",
       "      <td>1</td>\n",
       "      <td>1</td>\n",
       "      <td>female</td>\n",
       "      <td>35.0</td>\n",
       "      <td>1</td>\n",
       "      <td>0</td>\n",
       "      <td>53.1000</td>\n",
       "      <td>S</td>\n",
       "    </tr>\n",
       "    <tr>\n",
       "      <th>4</th>\n",
       "      <td>0</td>\n",
       "      <td>3</td>\n",
       "      <td>male</td>\n",
       "      <td>35.0</td>\n",
       "      <td>0</td>\n",
       "      <td>0</td>\n",
       "      <td>8.0500</td>\n",
       "      <td>S</td>\n",
       "    </tr>\n",
       "  </tbody>\n",
       "</table>\n",
       "</div>"
      ],
      "text/plain": [
       "   Survived  Pclass     Sex   Age  SibSp  Parch     Fare Embarked\n",
       "0         0       3    male  22.0      1      0   7.2500        S\n",
       "1         1       1  female  38.0      1      0  71.2833        C\n",
       "2         1       3  female  26.0      0      0   7.9250        S\n",
       "3         1       1  female  35.0      1      0  53.1000        S\n",
       "4         0       3    male  35.0      0      0   8.0500        S"
      ]
     },
     "execution_count": 23,
     "metadata": {},
     "output_type": "execute_result"
    }
   ],
   "source": [
    "df.head()"
   ]
  },
  {
   "cell_type": "markdown",
   "id": "df3bd964",
   "metadata": {},
   "source": [
    "# Seperate X and Y"
   ]
  },
  {
   "cell_type": "code",
   "execution_count": 24,
   "id": "845b471f",
   "metadata": {},
   "outputs": [],
   "source": [
    "x= df.iloc[:,1:]\n",
    "y=df.iloc[:,0]"
   ]
  },
  {
   "cell_type": "markdown",
   "id": "cdf76934",
   "metadata": {},
   "source": [
    "Sex column and Embarked column are catogorical columns.convert them into numeric columns with OneHotencoding."
   ]
  },
  {
   "cell_type": "code",
   "execution_count": 25,
   "id": "67fdba95",
   "metadata": {},
   "outputs": [],
   "source": [
    "ct = ColumnTransformer(transformers= [('encoder',OneHotEncoder(),['Sex','Embarked'])],remainder= \"passthrough\")\n",
    "x= np.array(ct.fit_transform(x))"
   ]
  },
  {
   "cell_type": "markdown",
   "id": "1de2b304",
   "metadata": {},
   "source": [
    "# Divide the data into Train And Test"
   ]
  },
  {
   "cell_type": "code",
   "execution_count": 26,
   "id": "0e975788",
   "metadata": {},
   "outputs": [],
   "source": [
    "xtrain,xtest,ytrain,ytest= train_test_split(x,y,test_size=0.25,random_state=1)"
   ]
  },
  {
   "cell_type": "markdown",
   "id": "d4b37c82",
   "metadata": {},
   "source": [
    "# Model Preparation with the help of function."
   ]
  },
  {
   "cell_type": "code",
   "execution_count": 27,
   "id": "a91f0620",
   "metadata": {},
   "outputs": [],
   "source": [
    "def mymodel(model):\n",
    "    model.fit(xtrain,ytrain)\n",
    "    ypred= model.predict(xtest)\n",
    "    print(f\"Accuracy  :-{accuracy_score(ytest,ypred)}\\n\\n{confusion_matrix(ytest,ypred)}\\n\\n{classification_report(ytest,ypred)}\")"
   ]
  },
  {
   "cell_type": "code",
   "execution_count": 28,
   "id": "e79fe05a",
   "metadata": {},
   "outputs": [],
   "source": [
    "logreg = LogisticRegression()\n",
    "knn= KNeighborsClassifier()\n",
    "svm= SVC()\n",
    "svm2= SVC(kernel=\"linear\")\n",
    "dt = DecisionTreeClassifier()\n",
    "dt1 = DecisionTreeClassifier(criterion=\"entropy\")"
   ]
  },
  {
   "cell_type": "code",
   "execution_count": 29,
   "id": "f081a618",
   "metadata": {},
   "outputs": [
    {
     "name": "stdout",
     "output_type": "stream",
     "text": [
      "Accuracy  :-0.8430493273542601\n",
      "\n",
      "[[120  18]\n",
      " [ 17  68]]\n",
      "\n",
      "              precision    recall  f1-score   support\n",
      "\n",
      "           0       0.88      0.87      0.87       138\n",
      "           1       0.79      0.80      0.80        85\n",
      "\n",
      "    accuracy                           0.84       223\n",
      "   macro avg       0.83      0.83      0.83       223\n",
      "weighted avg       0.84      0.84      0.84       223\n",
      "\n"
     ]
    }
   ],
   "source": [
    "mymodel(logreg)"
   ]
  },
  {
   "cell_type": "markdown",
   "id": "7edaa709",
   "metadata": {},
   "source": [
    "Accuracy for LogisticRegression is 84.0%"
   ]
  },
  {
   "cell_type": "code",
   "execution_count": 30,
   "id": "745abe1b",
   "metadata": {},
   "outputs": [
    {
     "name": "stdout",
     "output_type": "stream",
     "text": [
      "Accuracy  :-0.7219730941704036\n",
      "\n",
      "[[110  28]\n",
      " [ 34  51]]\n",
      "\n",
      "              precision    recall  f1-score   support\n",
      "\n",
      "           0       0.76      0.80      0.78       138\n",
      "           1       0.65      0.60      0.62        85\n",
      "\n",
      "    accuracy                           0.72       223\n",
      "   macro avg       0.70      0.70      0.70       223\n",
      "weighted avg       0.72      0.72      0.72       223\n",
      "\n"
     ]
    }
   ],
   "source": [
    "mymodel(knn)"
   ]
  },
  {
   "cell_type": "markdown",
   "id": "af1c3f0e",
   "metadata": {},
   "source": [
    "Accuracy for KNeighborclassifier is 72.0%"
   ]
  },
  {
   "cell_type": "code",
   "execution_count": 31,
   "id": "3b99d8ec",
   "metadata": {},
   "outputs": [
    {
     "name": "stdout",
     "output_type": "stream",
     "text": [
      "Accuracy  :-0.6502242152466368\n",
      "\n",
      "[[113  25]\n",
      " [ 53  32]]\n",
      "\n",
      "              precision    recall  f1-score   support\n",
      "\n",
      "           0       0.68      0.82      0.74       138\n",
      "           1       0.56      0.38      0.45        85\n",
      "\n",
      "    accuracy                           0.65       223\n",
      "   macro avg       0.62      0.60      0.60       223\n",
      "weighted avg       0.64      0.65      0.63       223\n",
      "\n"
     ]
    }
   ],
   "source": [
    "mymodel(svm)"
   ]
  },
  {
   "cell_type": "markdown",
   "id": "9cc2c197",
   "metadata": {},
   "source": [
    "Accuracy for Support vector classifier with rbf kernel is 65.0%"
   ]
  },
  {
   "cell_type": "code",
   "execution_count": 32,
   "id": "aff08b22",
   "metadata": {},
   "outputs": [
    {
     "name": "stdout",
     "output_type": "stream",
     "text": [
      "Accuracy  :-0.8340807174887892\n",
      "\n",
      "[[122  16]\n",
      " [ 21  64]]\n",
      "\n",
      "              precision    recall  f1-score   support\n",
      "\n",
      "           0       0.85      0.88      0.87       138\n",
      "           1       0.80      0.75      0.78        85\n",
      "\n",
      "    accuracy                           0.83       223\n",
      "   macro avg       0.83      0.82      0.82       223\n",
      "weighted avg       0.83      0.83      0.83       223\n",
      "\n"
     ]
    }
   ],
   "source": [
    "mymodel(svm2)"
   ]
  },
  {
   "cell_type": "markdown",
   "id": "19706c2e",
   "metadata": {},
   "source": [
    "Accuracy for Support vector classifier with linear kernel is 83.40%"
   ]
  },
  {
   "cell_type": "code",
   "execution_count": 33,
   "id": "cf5e37a0",
   "metadata": {},
   "outputs": [
    {
     "name": "stdout",
     "output_type": "stream",
     "text": [
      "Accuracy  :-0.8251121076233184\n",
      "\n",
      "[[119  19]\n",
      " [ 20  65]]\n",
      "\n",
      "              precision    recall  f1-score   support\n",
      "\n",
      "           0       0.86      0.86      0.86       138\n",
      "           1       0.77      0.76      0.77        85\n",
      "\n",
      "    accuracy                           0.83       223\n",
      "   macro avg       0.81      0.81      0.81       223\n",
      "weighted avg       0.82      0.83      0.82       223\n",
      "\n"
     ]
    }
   ],
   "source": [
    "mymodel(dt)"
   ]
  },
  {
   "cell_type": "markdown",
   "id": "520b7d7d",
   "metadata": {},
   "source": [
    "Accuracy for DecisionTreeClassifier with gini criterion is 83.0%"
   ]
  },
  {
   "cell_type": "code",
   "execution_count": 34,
   "id": "06c50de9",
   "metadata": {},
   "outputs": [
    {
     "name": "stdout",
     "output_type": "stream",
     "text": [
      "Accuracy  :-0.7623318385650224\n",
      "\n",
      "[[110  28]\n",
      " [ 25  60]]\n",
      "\n",
      "              precision    recall  f1-score   support\n",
      "\n",
      "           0       0.81      0.80      0.81       138\n",
      "           1       0.68      0.71      0.69        85\n",
      "\n",
      "    accuracy                           0.76       223\n",
      "   macro avg       0.75      0.75      0.75       223\n",
      "weighted avg       0.76      0.76      0.76       223\n",
      "\n"
     ]
    }
   ],
   "source": [
    "mymodel(dt1)"
   ]
  },
  {
   "cell_type": "markdown",
   "id": "28875b87",
   "metadata": {},
   "source": [
    "Accuracy for DecisionTreeClassifier with entropy criterion is 75.33%"
   ]
  },
  {
   "cell_type": "markdown",
   "id": "06110f24",
   "metadata": {},
   "source": [
    "# HyperparameterTunning for LogisticRegression"
   ]
  },
  {
   "cell_type": "code",
   "execution_count": 35,
   "id": "cad799ec",
   "metadata": {},
   "outputs": [],
   "source": [
    "from sklearn.model_selection import GridSearchCV"
   ]
  },
  {
   "cell_type": "code",
   "execution_count": 36,
   "id": "6d76e57a",
   "metadata": {},
   "outputs": [],
   "source": [
    "para_l= {\"C\":[0.1,1,10,100,1000],\"penalty\":[\"l1\",\"l2\"]}"
   ]
  },
  {
   "cell_type": "code",
   "execution_count": 37,
   "id": "d63c38b7",
   "metadata": {},
   "outputs": [
    {
     "name": "stdout",
     "output_type": "stream",
     "text": [
      "Fitting 5 folds for each of 10 candidates, totalling 50 fits\n",
      "[CV 1/5] END ..............................C=0.1, penalty=l1; total time=   0.0s\n",
      "[CV 2/5] END ..............................C=0.1, penalty=l1; total time=   0.0s\n",
      "[CV 3/5] END ..............................C=0.1, penalty=l1; total time=   0.0s\n",
      "[CV 4/5] END ..............................C=0.1, penalty=l1; total time=   0.0s\n",
      "[CV 5/5] END ..............................C=0.1, penalty=l1; total time=   0.0s\n",
      "[CV 1/5] END ..............................C=0.1, penalty=l2; total time=   0.0s\n",
      "[CV 2/5] END ..............................C=0.1, penalty=l2; total time=   0.0s\n",
      "[CV 3/5] END ..............................C=0.1, penalty=l2; total time=   0.0s\n",
      "[CV 4/5] END ..............................C=0.1, penalty=l2; total time=   0.0s\n",
      "[CV 5/5] END ..............................C=0.1, penalty=l2; total time=   0.0s\n",
      "[CV 1/5] END ................................C=1, penalty=l1; total time=   0.0s\n",
      "[CV 2/5] END ................................C=1, penalty=l1; total time=   0.0s\n",
      "[CV 3/5] END ................................C=1, penalty=l1; total time=   0.0s\n",
      "[CV 4/5] END ................................C=1, penalty=l1; total time=   0.0s\n",
      "[CV 5/5] END ................................C=1, penalty=l1; total time=   0.0s\n",
      "[CV 1/5] END ................................C=1, penalty=l2; total time=   0.0s\n",
      "[CV 2/5] END ................................C=1, penalty=l2; total time=   0.0s\n",
      "[CV 3/5] END ................................C=1, penalty=l2; total time=   0.0s\n",
      "[CV 4/5] END ................................C=1, penalty=l2; total time=   0.0s\n",
      "[CV 5/5] END ................................C=1, penalty=l2; total time=   0.0s\n",
      "[CV 1/5] END ...............................C=10, penalty=l1; total time=   0.0s\n",
      "[CV 2/5] END ...............................C=10, penalty=l1; total time=   0.0s\n",
      "[CV 3/5] END ...............................C=10, penalty=l1; total time=   0.0s\n",
      "[CV 4/5] END ...............................C=10, penalty=l1; total time=   0.0s\n",
      "[CV 5/5] END ...............................C=10, penalty=l1; total time=   0.0s\n",
      "[CV 1/5] END ...............................C=10, penalty=l2; total time=   0.0s\n",
      "[CV 2/5] END ...............................C=10, penalty=l2; total time=   0.0s\n",
      "[CV 3/5] END ...............................C=10, penalty=l2; total time=   0.0s\n",
      "[CV 4/5] END ...............................C=10, penalty=l2; total time=   0.0s\n",
      "[CV 5/5] END ...............................C=10, penalty=l2; total time=   0.0s\n",
      "[CV 1/5] END ..............................C=100, penalty=l1; total time=   0.0s\n",
      "[CV 2/5] END ..............................C=100, penalty=l1; total time=   0.0s\n",
      "[CV 3/5] END ..............................C=100, penalty=l1; total time=   0.0s\n",
      "[CV 4/5] END ..............................C=100, penalty=l1; total time=   0.0s\n",
      "[CV 5/5] END ..............................C=100, penalty=l1; total time=   0.0s\n",
      "[CV 1/5] END ..............................C=100, penalty=l2; total time=   0.0s\n",
      "[CV 2/5] END ..............................C=100, penalty=l2; total time=   0.0s\n",
      "[CV 3/5] END ..............................C=100, penalty=l2; total time=   0.0s\n",
      "[CV 4/5] END ..............................C=100, penalty=l2; total time=   0.0s\n",
      "[CV 5/5] END ..............................C=100, penalty=l2; total time=   0.0s\n",
      "[CV 1/5] END .............................C=1000, penalty=l1; total time=   0.0s\n",
      "[CV 2/5] END .............................C=1000, penalty=l1; total time=   0.0s\n",
      "[CV 3/5] END .............................C=1000, penalty=l1; total time=   0.0s\n",
      "[CV 4/5] END .............................C=1000, penalty=l1; total time=   0.0s\n",
      "[CV 5/5] END .............................C=1000, penalty=l1; total time=   0.0s\n",
      "[CV 1/5] END .............................C=1000, penalty=l2; total time=   0.0s\n",
      "[CV 2/5] END .............................C=1000, penalty=l2; total time=   0.0s\n",
      "[CV 3/5] END .............................C=1000, penalty=l2; total time=   0.0s\n",
      "[CV 4/5] END .............................C=1000, penalty=l2; total time=   0.0s\n",
      "[CV 5/5] END .............................C=1000, penalty=l2; total time=   0.0s\n"
     ]
    }
   ],
   "source": [
    "gridl= GridSearchCV(logreg,para_l,refit= True,verbose=3)\n",
    "gridl.fit(xtrain,ytrain)\n",
    "gpred= gridl.predict(xtest)"
   ]
  },
  {
   "cell_type": "code",
   "execution_count": 38,
   "id": "30f40ff8",
   "metadata": {},
   "outputs": [
    {
     "data": {
      "text/plain": [
       "{'C': 0.1, 'penalty': 'l2'}"
      ]
     },
     "execution_count": 38,
     "metadata": {},
     "output_type": "execute_result"
    }
   ],
   "source": [
    "gridl.best_params_"
   ]
  },
  {
   "cell_type": "code",
   "execution_count": 39,
   "id": "8b67fc62",
   "metadata": {},
   "outputs": [
    {
     "name": "stdout",
     "output_type": "stream",
     "text": [
      "0.8430493273542601\n"
     ]
    }
   ],
   "source": [
    "gpred= gridl.predict(xtest)\n",
    "print(accuracy_score(ytest,gpred))"
   ]
  },
  {
   "cell_type": "markdown",
   "id": "67641f28",
   "metadata": {},
   "source": [
    "After tunning got accuracy 84.30% for Logistic Regression."
   ]
  },
  {
   "cell_type": "markdown",
   "id": "352e1683",
   "metadata": {},
   "source": [
    "# HyperparameterTunning for KNN"
   ]
  },
  {
   "cell_type": "code",
   "execution_count": 40,
   "id": "9a38a1bf",
   "metadata": {},
   "outputs": [],
   "source": [
    "accuracy = []\n",
    "for i in range (1,30):\n",
    "    knn=KNeighborsClassifier(n_neighbors =i)\n",
    "    knn.fit(xtrain,ytrain)\n",
    "    ypred = knn.predict(xtest)\n",
    "    ac= accuracy_score(ytest,ypred)\n",
    "    accuracy.append(ac)"
   ]
  },
  {
   "cell_type": "code",
   "execution_count": 41,
   "id": "1e0081fd",
   "metadata": {},
   "outputs": [
    {
     "data": {
      "image/png": "[encoded data removed]",
      "text/plain": [
       "<Figure size 432x288 with 1 Axes>"
      ]
     },
     "metadata": {
      "needs_background": "light"
     },
     "output_type": "display_data"
    }
   ],
   "source": [
    "plt.plot(range(1,30),accuracy)\n",
    "plt.grid(True)\n",
    "\n",
    "plt.show()"
   ]
  },
  {
   "cell_type": "code",
   "execution_count": 42,
   "id": "4be2e835",
   "metadata": {},
   "outputs": [],
   "source": [
    "knn=KNeighborsClassifier(n_neighbors =3)\n",
    "knn.fit(xtrain,ytrain)\n",
    "ypred = knn.predict(xtest)\n",
    "\n",
    "    "
   ]
  },
  {
   "cell_type": "code",
   "execution_count": 43,
   "id": "4618afbf",
   "metadata": {},
   "outputs": [
    {
     "name": "stdout",
     "output_type": "stream",
     "text": [
      "0.726457399103139\n"
     ]
    }
   ],
   "source": [
    "print(accuracy_score(ytest,ypred))"
   ]
  },
  {
   "cell_type": "markdown",
   "id": "cf7d6877",
   "metadata": {},
   "source": [
    "After tunning got accuracy 72.64% for KNighborsclassifier."
   ]
  },
  {
   "cell_type": "markdown",
   "id": "8e3c585f",
   "metadata": {},
   "source": [
    "# HyperparameterTunning for SVC with rbf kernel"
   ]
  },
  {
   "cell_type": "code",
   "execution_count": 44,
   "id": "2b165390",
   "metadata": {},
   "outputs": [],
   "source": [
    "para_s= {\"C\":[0.1,1,10,100,1000],\"gamma\":[1,0.1,0.01,0.001,0.0001]}"
   ]
  },
  {
   "cell_type": "code",
   "execution_count": 45,
   "id": "6bc5adaf",
   "metadata": {},
   "outputs": [
    {
     "name": "stdout",
     "output_type": "stream",
     "text": [
      "Fitting 5 folds for each of 25 candidates, totalling 125 fits\n",
      "[CV 1/5] END .................................C=0.1, gamma=1; total time=   0.0s\n",
      "[CV 2/5] END .................................C=0.1, gamma=1; total time=   0.0s\n",
      "[CV 3/5] END .................................C=0.1, gamma=1; total time=   0.0s\n",
      "[CV 4/5] END .................................C=0.1, gamma=1; total time=   0.0s\n",
      "[CV 5/5] END .................................C=0.1, gamma=1; total time=   0.0s\n",
      "[CV 1/5] END ...............................C=0.1, gamma=0.1; total time=   0.0s\n",
      "[CV 2/5] END ...............................C=0.1, gamma=0.1; total time=   0.0s\n",
      "[CV 3/5] END ...............................C=0.1, gamma=0.1; total time=   0.0s\n",
      "[CV 4/5] END ...............................C=0.1, gamma=0.1; total time=   0.0s\n",
      "[CV 5/5] END ...............................C=0.1, gamma=0.1; total time=   0.0s\n",
      "[CV 1/5] END ..............................C=0.1, gamma=0.01; total time=   0.0s\n",
      "[CV 2/5] END ..............................C=0.1, gamma=0.01; total time=   0.0s\n",
      "[CV 3/5] END ..............................C=0.1, gamma=0.01; total time=   0.0s\n",
      "[CV 4/5] END ..............................C=0.1, gamma=0.01; total time=   0.0s\n",
      "[CV 5/5] END ..............................C=0.1, gamma=0.01; total time=   0.0s\n",
      "[CV 1/5] END .............................C=0.1, gamma=0.001; total time=   0.0s\n",
      "[CV 2/5] END .............................C=0.1, gamma=0.001; total time=   0.0s\n",
      "[CV 3/5] END .............................C=0.1, gamma=0.001; total time=   0.0s\n",
      "[CV 4/5] END .............................C=0.1, gamma=0.001; total time=   0.0s\n",
      "[CV 5/5] END .............................C=0.1, gamma=0.001; total time=   0.0s\n",
      "[CV 1/5] END ............................C=0.1, gamma=0.0001; total time=   0.0s\n",
      "[CV 2/5] END ............................C=0.1, gamma=0.0001; total time=   0.0s\n",
      "[CV 3/5] END ............................C=0.1, gamma=0.0001; total time=   0.0s\n",
      "[CV 4/5] END ............................C=0.1, gamma=0.0001; total time=   0.0s\n",
      "[CV 5/5] END ............................C=0.1, gamma=0.0001; total time=   0.0s\n",
      "[CV 1/5] END ...................................C=1, gamma=1; total time=   0.0s\n",
      "[CV 2/5] END ...................................C=1, gamma=1; total time=   0.0s\n",
      "[CV 3/5] END ...................................C=1, gamma=1; total time=   0.0s\n",
      "[CV 4/5] END ...................................C=1, gamma=1; total time=   0.0s\n",
      "[CV 5/5] END ...................................C=1, gamma=1; total time=   0.0s\n",
      "[CV 1/5] END .................................C=1, gamma=0.1; total time=   0.0s\n",
      "[CV 2/5] END .................................C=1, gamma=0.1; total time=   0.0s\n",
      "[CV 3/5] END .................................C=1, gamma=0.1; total time=   0.0s\n",
      "[CV 4/5] END .................................C=1, gamma=0.1; total time=   0.0s\n",
      "[CV 5/5] END .................................C=1, gamma=0.1; total time=   0.0s\n",
      "[CV 1/5] END ................................C=1, gamma=0.01; total time=   0.0s\n",
      "[CV 2/5] END ................................C=1, gamma=0.01; total time=   0.0s\n",
      "[CV 3/5] END ................................C=1, gamma=0.01; total time=   0.0s\n",
      "[CV 4/5] END ................................C=1, gamma=0.01; total time=   0.0s\n",
      "[CV 5/5] END ................................C=1, gamma=0.01; total time=   0.0s\n",
      "[CV 1/5] END ...............................C=1, gamma=0.001; total time=   0.0s\n",
      "[CV 2/5] END ...............................C=1, gamma=0.001; total time=   0.0s\n",
      "[CV 3/5] END ...............................C=1, gamma=0.001; total time=   0.0s\n",
      "[CV 4/5] END ...............................C=1, gamma=0.001; total time=   0.0s\n",
      "[CV 5/5] END ...............................C=1, gamma=0.001; total time=   0.0s\n",
      "[CV 1/5] END ..............................C=1, gamma=0.0001; total time=   0.0s\n",
      "[CV 2/5] END ..............................C=1, gamma=0.0001; total time=   0.0s\n",
      "[CV 3/5] END ..............................C=1, gamma=0.0001; total time=   0.0s\n",
      "[CV 4/5] END ..............................C=1, gamma=0.0001; total time=   0.0s\n",
      "[CV 5/5] END ..............................C=1, gamma=0.0001; total time=   0.0s\n",
      "[CV 1/5] END ..................................C=10, gamma=1; total time=   0.0s\n",
      "[CV 2/5] END ..................................C=10, gamma=1; total time=   0.0s\n",
      "[CV 3/5] END ..................................C=10, gamma=1; total time=   0.0s\n",
      "[CV 4/5] END ..................................C=10, gamma=1; total time=   0.0s\n",
      "[CV 5/5] END ..................................C=10, gamma=1; total time=   0.0s\n",
      "[CV 1/5] END ................................C=10, gamma=0.1; total time=   0.0s\n",
      "[CV 2/5] END ................................C=10, gamma=0.1; total time=   0.0s\n",
      "[CV 3/5] END ................................C=10, gamma=0.1; total time=   0.0s\n",
      "[CV 4/5] END ................................C=10, gamma=0.1; total time=   0.0s\n",
      "[CV 5/5] END ................................C=10, gamma=0.1; total time=   0.0s\n",
      "[CV 1/5] END ...............................C=10, gamma=0.01; total time=   0.0s\n",
      "[CV 2/5] END ...............................C=10, gamma=0.01; total time=   0.0s\n",
      "[CV 3/5] END ...............................C=10, gamma=0.01; total time=   0.0s\n",
      "[CV 4/5] END ...............................C=10, gamma=0.01; total time=   0.0s\n",
      "[CV 5/5] END ...............................C=10, gamma=0.01; total time=   0.0s\n",
      "[CV 1/5] END ..............................C=10, gamma=0.001; total time=   0.0s\n",
      "[CV 2/5] END ..............................C=10, gamma=0.001; total time=   0.0s\n",
      "[CV 3/5] END ..............................C=10, gamma=0.001; total time=   0.0s\n",
      "[CV 4/5] END ..............................C=10, gamma=0.001; total time=   0.0s\n",
      "[CV 5/5] END ..............................C=10, gamma=0.001; total time=   0.0s\n",
      "[CV 1/5] END .............................C=10, gamma=0.0001; total time=   0.0s\n",
      "[CV 2/5] END .............................C=10, gamma=0.0001; total time=   0.0s\n",
      "[CV 3/5] END .............................C=10, gamma=0.0001; total time=   0.0s\n",
      "[CV 4/5] END .............................C=10, gamma=0.0001; total time=   0.0s\n",
      "[CV 5/5] END .............................C=10, gamma=0.0001; total time=   0.0s\n",
      "[CV 1/5] END .................................C=100, gamma=1; total time=   0.0s\n",
      "[CV 2/5] END .................................C=100, gamma=1; total time=   0.0s\n",
      "[CV 3/5] END .................................C=100, gamma=1; total time=   0.0s\n",
      "[CV 4/5] END .................................C=100, gamma=1; total time=   0.0s\n",
      "[CV 5/5] END .................................C=100, gamma=1; total time=   0.0s\n",
      "[CV 1/5] END ...............................C=100, gamma=0.1; total time=   0.0s\n",
      "[CV 2/5] END ...............................C=100, gamma=0.1; total time=   0.0s\n",
      "[CV 3/5] END ...............................C=100, gamma=0.1; total time=   0.0s\n",
      "[CV 4/5] END ...............................C=100, gamma=0.1; total time=   0.0s\n",
      "[CV 5/5] END ...............................C=100, gamma=0.1; total time=   0.0s\n",
      "[CV 1/5] END ..............................C=100, gamma=0.01; total time=   0.0s\n",
      "[CV 2/5] END ..............................C=100, gamma=0.01; total time=   0.0s\n",
      "[CV 3/5] END ..............................C=100, gamma=0.01; total time=   0.0s\n",
      "[CV 4/5] END ..............................C=100, gamma=0.01; total time=   0.0s\n",
      "[CV 5/5] END ..............................C=100, gamma=0.01; total time=   0.0s\n",
      "[CV 1/5] END .............................C=100, gamma=0.001; total time=   0.0s\n",
      "[CV 2/5] END .............................C=100, gamma=0.001; total time=   0.0s\n",
      "[CV 3/5] END .............................C=100, gamma=0.001; total time=   0.0s\n",
      "[CV 4/5] END .............................C=100, gamma=0.001; total time=   0.0s\n",
      "[CV 5/5] END .............................C=100, gamma=0.001; total time=   0.0s\n",
      "[CV 1/5] END ............................C=100, gamma=0.0001; total time=   0.0s\n",
      "[CV 2/5] END ............................C=100, gamma=0.0001; total time=   0.0s\n",
      "[CV 3/5] END ............................C=100, gamma=0.0001; total time=   0.0s\n",
      "[CV 4/5] END ............................C=100, gamma=0.0001; total time=   0.0s\n",
      "[CV 5/5] END ............................C=100, gamma=0.0001; total time=   0.0s\n",
      "[CV 1/5] END ................................C=1000, gamma=1; total time=   0.0s\n",
      "[CV 2/5] END ................................C=1000, gamma=1; total time=   0.0s\n",
      "[CV 3/5] END ................................C=1000, gamma=1; total time=   0.0s\n"
     ]
    },
    {
     "name": "stdout",
     "output_type": "stream",
     "text": [
      "[CV 4/5] END ................................C=1000, gamma=1; total time=   0.0s\n",
      "[CV 5/5] END ................................C=1000, gamma=1; total time=   0.0s\n",
      "[CV 1/5] END ..............................C=1000, gamma=0.1; total time=   0.0s\n",
      "[CV 2/5] END ..............................C=1000, gamma=0.1; total time=   0.0s\n",
      "[CV 3/5] END ..............................C=1000, gamma=0.1; total time=   0.0s\n",
      "[CV 4/5] END ..............................C=1000, gamma=0.1; total time=   0.0s\n",
      "[CV 5/5] END ..............................C=1000, gamma=0.1; total time=   0.0s\n",
      "[CV 1/5] END .............................C=1000, gamma=0.01; total time=   0.2s\n",
      "[CV 2/5] END .............................C=1000, gamma=0.01; total time=   0.1s\n",
      "[CV 3/5] END .............................C=1000, gamma=0.01; total time=   0.1s\n",
      "[CV 4/5] END .............................C=1000, gamma=0.01; total time=   0.1s\n",
      "[CV 5/5] END .............................C=1000, gamma=0.01; total time=   0.0s\n",
      "[CV 1/5] END ............................C=1000, gamma=0.001; total time=   0.2s\n",
      "[CV 2/5] END ............................C=1000, gamma=0.001; total time=   0.1s\n",
      "[CV 3/5] END ............................C=1000, gamma=0.001; total time=   0.1s\n",
      "[CV 4/5] END ............................C=1000, gamma=0.001; total time=   0.0s\n",
      "[CV 5/5] END ............................C=1000, gamma=0.001; total time=   0.0s\n",
      "[CV 1/5] END ...........................C=1000, gamma=0.0001; total time=   0.1s\n",
      "[CV 2/5] END ...........................C=1000, gamma=0.0001; total time=   0.0s\n",
      "[CV 3/5] END ...........................C=1000, gamma=0.0001; total time=   0.0s\n",
      "[CV 4/5] END ...........................C=1000, gamma=0.0001; total time=   0.0s\n",
      "[CV 5/5] END ...........................C=1000, gamma=0.0001; total time=   0.0s\n"
     ]
    },
    {
     "data": {
      "text/plain": [
       "GridSearchCV(estimator=SVC(),\n",
       "             param_grid={'C': [0.1, 1, 10, 100, 1000],\n",
       "                         'gamma': [1, 0.1, 0.01, 0.001, 0.0001]},\n",
       "             verbose=3)"
      ]
     },
     "execution_count": 45,
     "metadata": {},
     "output_type": "execute_result"
    }
   ],
   "source": [
    "grids= GridSearchCV(svm,para_s,refit= True,verbose=3)\n",
    "grids.fit(xtrain,ytrain)\n",
    "\n"
   ]
  },
  {
   "cell_type": "code",
   "execution_count": 46,
   "id": "3f9503a0",
   "metadata": {},
   "outputs": [
    {
     "data": {
      "text/plain": [
       "{'C': 100, 'gamma': 0.001}"
      ]
     },
     "execution_count": 46,
     "metadata": {},
     "output_type": "execute_result"
    }
   ],
   "source": [
    "grids.best_params_"
   ]
  },
  {
   "cell_type": "code",
   "execution_count": 47,
   "id": "d4adc32e",
   "metadata": {},
   "outputs": [],
   "source": [
    "gpred= grids.predict(xtest)"
   ]
  },
  {
   "cell_type": "code",
   "execution_count": 48,
   "id": "640d4eac",
   "metadata": {},
   "outputs": [
    {
     "name": "stdout",
     "output_type": "stream",
     "text": [
      "0.8295964125560538\n"
     ]
    }
   ],
   "source": [
    "print(accuracy_score(ytest,gpred))"
   ]
  },
  {
   "cell_type": "markdown",
   "id": "1669b00a",
   "metadata": {},
   "source": [
    "After tunning got accuracy 82.95% for svc with rbf kernel."
   ]
  },
  {
   "cell_type": "markdown",
   "id": "0c050864",
   "metadata": {},
   "source": [
    "# HyperparameterTunning for SVC with linear kernel"
   ]
  },
  {
   "cell_type": "code",
   "execution_count": 49,
   "id": "de003279",
   "metadata": {},
   "outputs": [],
   "source": [
    "svm2= SVC(kernel=\"linear\",C=100,gamma=0.01)\n",
    "svm2.fit(xtrain,ytrain)\n",
    "ypred= svm2.predict(xtest)\n"
   ]
  },
  {
   "cell_type": "code",
   "execution_count": 50,
   "id": "d4635129",
   "metadata": {},
   "outputs": [
    {
     "name": "stdout",
     "output_type": "stream",
     "text": [
      "0.8475336322869955\n"
     ]
    }
   ],
   "source": [
    "print(accuracy_score(ytest,ypred))"
   ]
  },
  {
   "cell_type": "markdown",
   "id": "46bbb300",
   "metadata": {},
   "source": [
    "After tunning got accuracy 84.75% for svc with linear kernel."
   ]
  },
  {
   "cell_type": "markdown",
   "id": "f0b791fe",
   "metadata": {},
   "source": [
    "# HyperparameterTunning for DecisionTreeclassifier"
   ]
  },
  {
   "cell_type": "code",
   "execution_count": 51,
   "id": "6832f641",
   "metadata": {},
   "outputs": [],
   "source": [
    "accuracy=[]\n",
    "for i in range(1,101):\n",
    "    dt1 = DecisionTreeClassifier(min_samples_leaf=i)\n",
    "    dt1.fit(xtrain,ytrain)\n",
    "    ypred= dt1.predict(xtest)\n",
    "    ac= accuracy_score(ytest,ypred)\n",
    "    accuracy.append(ac)\n",
    "    "
   ]
  },
  {
   "cell_type": "code",
   "execution_count": 52,
   "id": "72d70812",
   "metadata": {},
   "outputs": [
    {
     "data": {
      "image/png": "[encoded data removed]",
      "text/plain": [
       "<Figure size 432x288 with 1 Axes>"
      ]
     },
     "metadata": {
      "needs_background": "light"
     },
     "output_type": "display_data"
    }
   ],
   "source": [
    "plt.plot(range(1,101),accuracy)\n",
    "plt.grid(True)\n",
    "\n",
    "plt.show()"
   ]
  },
  {
   "cell_type": "code",
   "execution_count": 53,
   "id": "2c9e4f99",
   "metadata": {},
   "outputs": [],
   "source": [
    "dt1 = DecisionTreeClassifier(min_samples_leaf=50)\n",
    "dt1.fit(xtrain,ytrain)\n",
    "ypred= dt1.predict(xtest)"
   ]
  },
  {
   "cell_type": "code",
   "execution_count": 54,
   "id": "4a73a1eb",
   "metadata": {},
   "outputs": [
    {
     "name": "stdout",
     "output_type": "stream",
     "text": [
      "              precision    recall  f1-score   support\n",
      "\n",
      "           0       0.83      0.95      0.89       138\n",
      "           1       0.89      0.68      0.77        85\n",
      "\n",
      "    accuracy                           0.85       223\n",
      "   macro avg       0.86      0.82      0.83       223\n",
      "weighted avg       0.85      0.85      0.84       223\n",
      "\n"
     ]
    }
   ],
   "source": [
    "print(classification_report(ytest,ypred))"
   ]
  },
  {
   "cell_type": "markdown",
   "id": "c2cee7e4",
   "metadata": {},
   "source": [
    "After tunning with min_sample_leaf got accuracy 85.0% for DecisionTreeClassifier."
   ]
  },
  {
   "cell_type": "code",
   "execution_count": 55,
   "id": "56a3913f",
   "metadata": {},
   "outputs": [],
   "source": [
    "accuracy=[]\n",
    "for i in range(1,101):\n",
    "    dt2 = DecisionTreeClassifier(max_depth=i)\n",
    "    dt2.fit(xtrain,ytrain)\n",
    "    ypred= dt2.predict(xtest)\n",
    "    ac= accuracy_score(ytest,ypred)\n",
    "    accuracy.append(ac)\n",
    "    "
   ]
  },
  {
   "cell_type": "code",
   "execution_count": 56,
   "id": "26e226d3",
   "metadata": {},
   "outputs": [
    {
     "data": {
      "image/png": "[encoded data removed]",
      "text/plain": [
       "<Figure size 432x288 with 1 Axes>"
      ]
     },
     "metadata": {
      "needs_background": "light"
     },
     "output_type": "display_data"
    }
   ],
   "source": [
    "plt.plot(range(1,101),accuracy)\n",
    "plt.grid(True)\n",
    "\n",
    "plt.show()"
   ]
  },
  {
   "cell_type": "code",
   "execution_count": 57,
   "id": "6f7e7a13",
   "metadata": {},
   "outputs": [],
   "source": [
    "dt2 = DecisionTreeClassifier(max_depth=10)\n",
    "dt2.fit(xtrain,ytrain)\n",
    "ypred= dt2.predict(xtest)"
   ]
  },
  {
   "cell_type": "code",
   "execution_count": 58,
   "id": "5b6a0881",
   "metadata": {},
   "outputs": [
    {
     "name": "stdout",
     "output_type": "stream",
     "text": [
      "              precision    recall  f1-score   support\n",
      "\n",
      "           0       0.85      0.87      0.86       138\n",
      "           1       0.78      0.74      0.76        85\n",
      "\n",
      "    accuracy                           0.82       223\n",
      "   macro avg       0.81      0.81      0.81       223\n",
      "weighted avg       0.82      0.82      0.82       223\n",
      "\n"
     ]
    }
   ],
   "source": [
    "print(classification_report(ytest,ypred))"
   ]
  },
  {
   "cell_type": "markdown",
   "id": "b3676f82",
   "metadata": {},
   "source": [
    "After tunning with min_sample_leaf got accuracy 82.0% for DecisionTreeClassifier."
   ]
  },
  {
   "cell_type": "code",
   "execution_count": 59,
   "id": "2adb964b",
   "metadata": {},
   "outputs": [],
   "source": [
    "dt3 = DecisionTreeClassifier(criterion=\"entropy\" ,max_depth=10)\n",
    "dt3.fit(xtrain,ytrain)\n",
    "ypred= dt3.predict(xtest)"
   ]
  },
  {
   "cell_type": "code",
   "execution_count": 60,
   "id": "3d30b666",
   "metadata": {},
   "outputs": [
    {
     "name": "stdout",
     "output_type": "stream",
     "text": [
      "              precision    recall  f1-score   support\n",
      "\n",
      "           0       0.81      0.81      0.81       138\n",
      "           1       0.69      0.68      0.69        85\n",
      "\n",
      "    accuracy                           0.76       223\n",
      "   macro avg       0.75      0.75      0.75       223\n",
      "weighted avg       0.76      0.76      0.76       223\n",
      "\n"
     ]
    }
   ],
   "source": [
    "print(classification_report(ytest,ypred))"
   ]
  },
  {
   "cell_type": "markdown",
   "id": "e5e14feb",
   "metadata": {},
   "source": [
    "After tunning with max_depth and criterion (entropy) got accuracy 77.0% for DecisionTreeClassifier."
   ]
  },
  {
   "cell_type": "code",
   "execution_count": 61,
   "id": "22ab83d2",
   "metadata": {},
   "outputs": [],
   "source": [
    "dt4 = DecisionTreeClassifier(criterion=\"entropy\" ,min_samples_leaf=50)\n",
    "dt4.fit(xtrain,ytrain)\n",
    "ypred= dt4.predict(xtest)"
   ]
  },
  {
   "cell_type": "code",
   "execution_count": 62,
   "id": "18353be8",
   "metadata": {},
   "outputs": [
    {
     "name": "stdout",
     "output_type": "stream",
     "text": [
      "              precision    recall  f1-score   support\n",
      "\n",
      "           0       0.83      0.95      0.89       138\n",
      "           1       0.89      0.68      0.77        85\n",
      "\n",
      "    accuracy                           0.85       223\n",
      "   macro avg       0.86      0.82      0.83       223\n",
      "weighted avg       0.85      0.85      0.84       223\n",
      "\n"
     ]
    }
   ],
   "source": [
    "print(classification_report(ytest,ypred))"
   ]
  },
  {
   "cell_type": "markdown",
   "id": "34ed6a61",
   "metadata": {},
   "source": [
    "After tunning with min_sample_leaf and criterion (entropy) got accuracy 85.0% for DecisionTreeClassifier."
   ]
  },
  {
   "cell_type": "markdown",
   "id": "4e11a771",
   "metadata": {},
   "source": []
  },
  {
   "cell_type": "markdown",
   "id": "57f484a5",
   "metadata": {},
   "source": [
    "- Three  Model have accuracy in the range of 84-85% .\n",
    "- LogisticRegression, Support vector Classifier(linear), DecisionTreeClassifier(gini)\n"
   ]
  },
  {
   "cell_type": "code",
   "execution_count": 63,
   "id": "3cf65817",
   "metadata": {},
   "outputs": [
    {
     "name": "stdout",
     "output_type": "stream",
     "text": [
      "Logreg    -:\n",
      "Accuracy  :-0.8430493273542601\n",
      "\n",
      "[[121  17]\n",
      " [ 18  67]]\n",
      "\n",
      "              precision    recall  f1-score   support\n",
      "\n",
      "           0       0.87      0.88      0.87       138\n",
      "           1       0.80      0.79      0.79        85\n",
      "\n",
      "    accuracy                           0.84       223\n",
      "   macro avg       0.83      0.83      0.83       223\n",
      "weighted avg       0.84      0.84      0.84       223\n",
      "\n",
      "SVM-l     -:\n",
      "Accuracy  :-0.8475336322869955\n",
      "\n",
      "[[123  15]\n",
      " [ 19  66]]\n",
      "\n",
      "              precision    recall  f1-score   support\n",
      "\n",
      "           0       0.87      0.89      0.88       138\n",
      "           1       0.81      0.78      0.80        85\n",
      "\n",
      "    accuracy                           0.85       223\n",
      "   macro avg       0.84      0.83      0.84       223\n",
      "weighted avg       0.85      0.85      0.85       223\n",
      "\n",
      "DT-g     -:\n",
      "Accuracy  :-0.8475336322869955\n",
      "\n",
      "[[131   7]\n",
      " [ 27  58]]\n",
      "\n",
      "              precision    recall  f1-score   support\n",
      "\n",
      "           0       0.83      0.95      0.89       138\n",
      "           1       0.89      0.68      0.77        85\n",
      "\n",
      "    accuracy                           0.85       223\n",
      "   macro avg       0.86      0.82      0.83       223\n",
      "weighted avg       0.85      0.85      0.84       223\n",
      "\n"
     ]
    }
   ],
   "source": [
    "models = []\n",
    "models.append((\"Logreg    -:\",LogisticRegression(C=0.1,penalty=\"l2\")))\n",
    "\n",
    "models.append((\"SVM-l     -:\",SVC(kernel=\"linear\",probability=True,C=100,gamma=0.1)))\n",
    "\n",
    "models.append((\"DT-g     -:\",DecisionTreeClassifier(criterion='gini',min_samples_leaf=50)))\n",
    "\n",
    "\n",
    "for name,model in models:\n",
    "    print(name)\n",
    "    mymodel(model)\n"
   ]
  },
  {
   "cell_type": "markdown",
   "id": "6a6034fb",
   "metadata": {},
   "source": [
    "After HyperParameter Tunning using GridSearchCV for LogisticRegression and SupportvectorClassifier.\n",
    "And Tunning Some parameters in DecisionTreeClassifier  got accuracy 84-85%"
   ]
  },
  {
   "cell_type": "markdown",
   "id": "db874ac6",
   "metadata": {},
   "source": [
    "# Conclusion:\n"
   ]
  },
  {
   "cell_type": "markdown",
   "id": "8ed542c6",
   "metadata": {},
   "source": [
    "By analysing titanic dataset we can say that, the model predict 85% correct prediction.\n",
    "\n",
    "By using machine learning technique we came to know that the chances of survival is higher for some classes like women than men.Upper class have high probabilty to be survived.\n",
    "\n",
    "\n"
   ]
  },
  {
   "cell_type": "code",
   "execution_count": null,
   "id": "e5522bb2",
   "metadata": {},
   "outputs": [],
   "source": []
  }
 ],
 "metadata": {
  "kernelspec": {
   "display_name": "Python 3",
   "language": "python",
   "name": "python3"
  },
  "language_info": {
   "codemirror_mode": {
    "name": "ipython",
    "version": 3
   },
   "file_extension": ".py",
   "mimetype": "text/x-python",
   "name": "python",
   "nbconvert_exporter": "python",
   "pygments_lexer": "ipython3",
   "version": "3.8.8"
  }
 },
 "nbformat": 4,
 "nbformat_minor": 5
}
